{
  "nbformat": 4,
  "nbformat_minor": 0,
  "metadata": {
    "colab": {
      "provenance": [],
      "include_colab_link": true
    },
    "kernelspec": {
      "name": "python3",
      "display_name": "Python 3"
    },
    "language_info": {
      "name": "python"
    }
  },
  "cells": [
    {
      "cell_type": "markdown",
      "metadata": {
        "id": "view-in-github",
        "colab_type": "text"
      },
      "source": [
        "<a href=\"https://colab.research.google.com/github/pyayivargitam/Infosys-Assignments/blob/main/cv_hyperparameter_tuning.ipynb\" target=\"_parent\"><img src=\"https://colab.research.google.com/assets/colab-badge.svg\" alt=\"Open In Colab\"/></a>"
      ]
    },
    {
      "cell_type": "markdown",
      "source": [
        "### Implementation of Cross-Validation & Hyperparameter Tuning"
      ],
      "metadata": {
        "id": "VdGPNHmt2PRE"
      }
    },
    {
      "cell_type": "code",
      "execution_count": null,
      "metadata": {
        "id": "Y14cSUx52Jgy"
      },
      "outputs": [],
      "source": [
        "# Import necessary libraries\n",
        "import pandas as pd\n",
        "import numpy as np\n",
        "from sklearn.model_selection import cross_val_score\n",
        "from sklearn.ensemble import RandomForestClassifier\n",
        "from sklearn.linear_model import LogisticRegression"
      ]
    },
    {
      "cell_type": "code",
      "source": [
        "# Load the dataset\n",
        "data = pd.read_csv('/content/drive/MyDrive/preprocessed_earthquake_data.csv')\n",
        "\n",
        "# Define the features and target\n",
        "target = 'Status_Reviewed'\n",
        "categorical_cols = ['Type', 'Magnitude Type', 'Source', 'Status']\n",
        "\n",
        "X = data.drop(columns=[target] + categorical_cols)\n",
        "y = data[target]\n"
      ],
      "metadata": {
        "id": "OBesGCdi52-Y"
      },
      "execution_count": null,
      "outputs": []
    },
    {
      "cell_type": "code",
      "source": [
        "# Define model\n",
        "models = {\n",
        "    'RandomForest': RandomForestClassifier(random_state=42),\n",
        "    'LogisticRegression': LogisticRegression(random_state=42)\n",
        "}"
      ],
      "metadata": {
        "id": "DYyTmXUy6MRo"
      },
      "execution_count": null,
      "outputs": []
    },
    {
      "cell_type": "code",
      "source": [
        "for name, model in models.items():\n",
        "    print(f\"\\nCross-validation for {name}:\")\n",
        "    scores = cross_val_score(model, X, y, cv=10, scoring='accuracy')\n",
        "    print(f\"Accuracy Scores for each fold: {scores}\")\n",
        "    print(f\"Mean Accuracy: {np.mean(scores):.4f}\")\n",
        "    print(f\"Accuracy Variance: {np.var(scores):.6f}\")\n"
      ],
      "metadata": {
        "colab": {
          "base_uri": "https://localhost:8080/"
        },
        "id": "XZtblaXG6bfr",
        "outputId": "052fede5-b277-4834-aaaf-4dec6263afd0"
      },
      "execution_count": null,
      "outputs": [
        {
          "output_type": "stream",
          "name": "stdout",
          "text": [
            "\n",
            "Cross-validation for RandomForest:\n",
            "Accuracy Scores for each fold: [0.9987185  1.         1.         1.         1.         1.\n",
            " 1.         1.         1.         0.97350427]\n",
            "Mean Accuracy: 0.9972\n",
            "Accuracy Variance: 0.000063\n",
            "\n",
            "Cross-validation for LogisticRegression:\n",
            "Accuracy Scores for each fold: [0.99700982 1.         1.         1.         1.         1.\n",
            " 1.         1.         1.         0.97521368]\n",
            "Mean Accuracy: 0.9972\n",
            "Accuracy Variance: 0.000055\n"
          ]
        }
      ]
    },
    {
      "cell_type": "code",
      "source": [
        "# Hyperparameter Tuning and Model Selection\n",
        "\n",
        "from sklearn.model_selection import GridSearchCV\n",
        "\n",
        "# Parameter grid for Random Forest\n",
        "param_grid_rf = {\n",
        "    'n_estimators': [50, 100, 200],\n",
        "    'max_depth': [None, 10, 20],\n",
        "    'min_samples_split': [2, 5]\n",
        "}\n",
        "\n",
        "# Parameter grid for Logistic Regression\n",
        "param_grid_lr = {\n",
        "    'C': [0.01, 0.1, 1, 10],\n",
        "    'penalty': ['l1', 'l2'],\n",
        "    'solver': ['liblinear']  # solver supporting l1 penalty\n",
        "}\n",
        "\n",
        "# GridSearchCV for each model with stratified 5-fold CV\n",
        "grid_searches = {\n",
        "    'RandomForest': GridSearchCV(RandomForestClassifier(random_state=42), param_grid_rf, cv=5, scoring='accuracy'),\n",
        "    'LogisticRegression': GridSearchCV(LogisticRegression(max_iter=500, random_state=42), param_grid_lr, cv=5, scoring='accuracy')\n",
        "}\n",
        "\n",
        "# Fit grid search and find best params and scores\n",
        "for name, gs in grid_searches.items():\n",
        "    gs.fit(X, y)\n",
        "    print(f\"\\nBest parameters for {name}: {gs.best_params_}\")\n",
        "    print(f\"Best cross-validation accuracy for {name}: {gs.best_score_:.4f}\")\n"
      ],
      "metadata": {
        "colab": {
          "base_uri": "https://localhost:8080/"
        },
        "id": "717UNIuB6vdU",
        "outputId": "21bc0e84-a985-4c49-f226-f9b2a01b1fa1"
      },
      "execution_count": null,
      "outputs": [
        {
          "output_type": "stream",
          "name": "stdout",
          "text": [
            "\n",
            "Best parameters for RandomForest: {'max_depth': None, 'min_samples_split': 2, 'n_estimators': 50}\n",
            "Best cross-validation accuracy for RandomForest: 0.9974\n",
            "\n",
            "Best parameters for LogisticRegression: {'C': 0.1, 'penalty': 'l1', 'solver': 'liblinear'}\n",
            "Best cross-validation accuracy for LogisticRegression: 0.9976\n"
          ]
        }
      ]
    },
    {
      "cell_type": "code",
      "source": [
        "## XGBRegressor vs Linear Regression"
      ],
      "metadata": {
        "id": "DwcTvJGF9wE_"
      },
      "execution_count": null,
      "outputs": []
    }
  ]
}