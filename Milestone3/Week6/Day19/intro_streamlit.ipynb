{
 "cells": [
  {
   "cell_type": "markdown",
   "id": "41d75fdf",
   "metadata": {},
   "source": [
    "Streamlit\n",
    "streamlit is an open-source Python framework designed to help data scientists and AI/ML engineers quickly build and share interactive web applications with very few lines of code. It enables creation of dynamic data apps, dashboards, and user interfaces without requiring expertise in front-end technologies like HTML, CSS, or JavaScript.\n",
    "\n",
    "Definition: streamlit lets you transform Python scripts into interactive web apps rapidly. This makes it ideal for building dashboards, reports, machine learning model demos, and data visualization tools in a simple and Pythonic way. By running the Python script with Streamlit, it launches a local web server and renders the app in a browser, allowing live interaction and instant feedback.\n",
    "\n",
    "Key Features:\n",
    "\n",
    "Simple and Pythonic: Write apps with pure Python code using an intuitive API.\n",
    "\n",
    "Fast Prototyping: Build interactive data apps in minutes rather than weeks.\n",
    "\n",
    "Live Editing: Apps update instantly as you modify the script.\n",
    "\n",
    "Widgets for Interaction: Includes buttons, sliders, text input, file uploaders, and more to capture user input.\n",
    "\n",
    "Rich Media Support: Supports text, markdown, code, LaTeX, images, audio, and video display.\n",
    "\n",
    "Layout Options: Columns, sidebar, expanders for flexible user interface design.\n",
    "\n",
    "State Management: Maintains widget and app state across user interactions.\n",
    "\n",
    "Animations and Feedback: Progress bars, spinners, and balloons to enhance user experience.\n",
    "\n",
    "Data Visualization: Easily integrate charts and dataframes.\n",
    "\n",
    "Open Source and Extensible: Active community with many add-ons and integrations.\n",
    "\n",
    "Deployment Options: Can be deployed locally, on cloud platforms, or enterprise solutions like Streamlit Cloud or Snowflake.\n",
    "\n",
    "These features make Streamlit a popular choice for quickly transforming Python data scripts into professional interactive applications with minimal effort."
   ]
  },
  {
   "cell_type": "code",
   "execution_count": null,
   "id": "71250e3b",
   "metadata": {
    "vscode": {
     "languageId": "plaintext"
    }
   },
   "outputs": [],
   "source": [
    "import streamlit as st # Import streamlit library\n",
    "st.title('This is a Title')\n",
    "st.header('This is a Header')\n",
    "st.subheader('This is a Subheader')\n",
    "st.text('This is a standard text message.')"
   ]
  },
  {
   "cell_type": "markdown",
   "id": "32179243",
   "metadata": {},
   "source": [
    "2. Markdown, Code, LaTeX, and Write"
   ]
  },
  {
   "cell_type": "code",
   "execution_count": null,
   "id": "72244ed4",
   "metadata": {
    "vscode": {
     "languageId": "plaintext"
    }
   },
   "outputs": [],
   "source": [
    "st.markdown('# Markdown Title\\nSome **bold** and _italic_ text.')\n",
    "st.code('print(\"Hello, Streamlit!\")', language='python')\n",
    "st.latex('e^{i\\\\pi} + 1 = 0')\n",
    "st.write('Write can display various data types including text, numbers, and dataframes')"
   ]
  },
  {
   "cell_type": "markdown",
   "id": "b74a3e08",
   "metadata": {},
   "source": [
    "3. Interactive Widgets Section"
   ]
  },
  {
   "cell_type": "code",
   "execution_count": null,
   "id": "86c4dcf9",
   "metadata": {
    "vscode": {
     "languageId": "plaintext"
    }
   },
   "outputs": [],
   "source": [
    "if st.button('Click me'):\n",
    "    st.write('Button clicked!')"
   ]
  },
  {
   "cell_type": "code",
   "execution_count": null,
   "id": "b285dec6",
   "metadata": {
    "vscode": {
     "languageId": "plaintext"
    }
   },
   "outputs": [],
   "source": [
    "if st.checkbox('Check me'):\n",
    "    st.write('Checkbox is checked')"
   ]
  },
  {
   "cell_type": "code",
   "execution_count": null,
   "id": "47a1141d",
   "metadata": {
    "vscode": {
     "languageId": "plaintext"
    }
   },
   "outputs": [],
   "source": [
    "choice = st.radio('Choose one:', ['Option 1', 'Option 2'])\n",
    "st.write(f'You chose {choice}')"
   ]
  },
  {
   "cell_type": "code",
   "execution_count": null,
   "id": "eb05cc44",
   "metadata": {
    "vscode": {
     "languageId": "plaintext"
    }
   },
   "outputs": [],
   "source": [
    "option = st.selectbox('Select:', ['A', 'B', 'C'])\n",
    "st.write(f'Selected {option}')"
   ]
  },
  {
   "cell_type": "code",
   "execution_count": null,
   "id": "c0c8ea0c",
   "metadata": {
    "vscode": {
     "languageId": "plaintext"
    }
   },
   "outputs": [],
   "source": [
    "options = st.multiselect('Select multiple:', ['A', 'B', 'C'])\n",
    "st.write(f'Selected {options}')"
   ]
  },
  {
   "cell_type": "code",
   "execution_count": null,
   "id": "f84b7120",
   "metadata": {
    "vscode": {
     "languageId": "plaintext"
    }
   },
   "outputs": [],
   "source": [
    "val = st.slider('Slide me', 0, 100, 25)\n",
    "st.write(f'Slider value {val}')"
   ]
  },
  {
   "cell_type": "code",
   "execution_count": null,
   "id": "97238e6a",
   "metadata": {
    "vscode": {
     "languageId": "plaintext"
    }
   },
   "outputs": [],
   "source": [
    "text = st.text_input('Enter text:')\n",
    "st.write(f'Your input: {text}')"
   ]
  },
  {
   "cell_type": "code",
   "execution_count": null,
   "id": "ec89a4f8",
   "metadata": {
    "vscode": {
     "languageId": "plaintext"
    }
   },
   "outputs": [],
   "source": [
    "num = st.number_input('Enter a number:', 0, 100)\n",
    "st.write(f'Number: {num}')"
   ]
  },
  {
   "cell_type": "code",
   "execution_count": null,
   "id": "74bf3f10",
   "metadata": {
    "vscode": {
     "languageId": "plaintext"
    }
   },
   "outputs": [],
   "source": [
    "date = st.date_input('Pick a date')\n",
    "st.write(f'Date selected: {date}')"
   ]
  },
  {
   "cell_type": "code",
   "execution_count": null,
   "id": "17f11cf4",
   "metadata": {
    "vscode": {
     "languageId": "plaintext"
    }
   },
   "outputs": [],
   "source": [
    "time_val = st.time_input('Pick a time')\n",
    "st.write(f'Time selected: {time_val}')"
   ]
  },
  {
   "cell_type": "markdown",
   "id": "477fe493",
   "metadata": {},
   "source": [
    "4. File and Media Inputs"
   ]
  },
  {
   "cell_type": "code",
   "execution_count": null,
   "id": "f3d98e6a",
   "metadata": {
    "vscode": {
     "languageId": "plaintext"
    }
   },
   "outputs": [],
   "source": [
    "file = st.file_uploader('Upload file')\n",
    "if file:\n",
    "    st.write(f'Filename: {file.name}')"
   ]
  },
  {
   "cell_type": "code",
   "execution_count": null,
   "id": "f8641779",
   "metadata": {
    "vscode": {
     "languageId": "plaintext"
    }
   },
   "outputs": [],
   "source": [
    "img = st.camera_input('Take a picture')\n",
    "if img:\n",
    "    st.image(img)"
   ]
  },
  {
   "cell_type": "code",
   "execution_count": null,
   "id": "b4bcc71c",
   "metadata": {
    "vscode": {
     "languageId": "plaintext"
    }
   },
   "outputs": [],
   "source": [
    "color = st.color_picker('Pick a color')\n",
    "st.write(f'Color: {color}')"
   ]
  },
  {
   "cell_type": "markdown",
   "id": "b6d7f99b",
   "metadata": {},
   "source": [
    "5. Layout & Animation"
   ]
  },
  {
   "cell_type": "code",
   "execution_count": null,
   "id": "4ebf8a0c",
   "metadata": {
    "vscode": {
     "languageId": "plaintext"
    }
   },
   "outputs": [],
   "source": [
    "col1, col2 = st.columns(2)\n",
    "col1.write('Column 1')\n",
    "col2.write('Column 2')"
   ]
  },
  {
   "cell_type": "code",
   "execution_count": null,
   "id": "6b874015",
   "metadata": {
    "vscode": {
     "languageId": "plaintext"
    }
   },
   "outputs": [],
   "source": [
    "with st.expander('Expand me'):\n",
    "    st.write('Hidden text here')"
   ]
  },
  {
   "cell_type": "code",
   "execution_count": null,
   "id": "ac086d96",
   "metadata": {
    "vscode": {
     "languageId": "plaintext"
    }
   },
   "outputs": [],
   "source": [
    "with st.sidebar:\n",
    "    st.write('Sidebar content here')"
   ]
  },
  {
   "cell_type": "code",
   "execution_count": null,
   "id": "bf45cf79",
   "metadata": {
    "vscode": {
     "languageId": "plaintext"
    }
   },
   "outputs": [],
   "source": [
    "st.balloons()"
   ]
  },
  {
   "cell_type": "code",
   "execution_count": null,
   "id": "4bd9affd",
   "metadata": {
    "vscode": {
     "languageId": "plaintext"
    }
   },
   "outputs": [],
   "source": [
    "import time\n",
    "with st.spinner('Loading...'):\n",
    "    time.sleep(2)\n",
    "st.write('Done!')"
   ]
  },
  {
   "cell_type": "code",
   "execution_count": null,
   "id": "5e85fe5f",
   "metadata": {
    "vscode": {
     "languageId": "plaintext"
    }
   },
   "outputs": [],
   "source": [
    "progress = st.progress(0)\n",
    "for i in range(100):\n",
    "    progress.progress(i + 1)\n",
    "st.write('Progress complete')"
   ]
  },
  {
   "cell_type": "code",
   "execution_count": null,
   "id": "a1aa0a0b",
   "metadata": {
    "vscode": {
     "languageId": "plaintext"
    }
   },
   "outputs": [],
   "source": [
    "st.metric(label='Temperature', value='70 °F', delta='-5 °F')"
   ]
  }
 ],
 "metadata": {
  "language_info": {
   "name": "python"
  }
 },
 "nbformat": 4,
 "nbformat_minor": 5
}
