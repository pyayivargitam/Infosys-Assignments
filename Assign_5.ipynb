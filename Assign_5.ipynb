{
  "nbformat": 4,
  "nbformat_minor": 0,
  "metadata": {
    "colab": {
      "provenance": [],
      "authorship_tag": "ABX9TyO3V/bHUiwo5jwewOfB6byE",
      "include_colab_link": true
    },
    "kernelspec": {
      "name": "python3",
      "display_name": "Python 3"
    },
    "language_info": {
      "name": "python"
    }
  },
  "cells": [
    {
      "cell_type": "markdown",
      "metadata": {
        "id": "view-in-github",
        "colab_type": "text"
      },
      "source": [
        "<a href=\"https://colab.research.google.com/github/pyayivargitam/Infosys-Assignments/blob/main/Assign_5.ipynb\" target=\"_parent\"><img src=\"https://colab.research.google.com/assets/colab-badge.svg\" alt=\"Open In Colab\"/></a>"
      ]
    },
    {
      "cell_type": "markdown",
      "source": [
        "# **Assignment 5**\n",
        "\n",
        "# Build, train, and save LightGBM and SVM classifiers with integrated cross-validation and hyperparameter tuning & do evaluation of these models using appropriate metrics, compare their performance, and identify which model performs best with reasoning.\n",
        "NOTE: Use the preprocessed dataset of earthquake predictions."
      ],
      "metadata": {
        "id": "eUOJpqN-G34P"
      }
    },
    {
      "cell_type": "code",
      "source": [
        "import pandas as pd\n",
        "import numpy as np\n",
        "import lightgbm as lgb\n",
        "from sklearn.svm import SVC\n",
        "from sklearn.model_selection import train_test_split, GridSearchCV, StratifiedKFold\n",
        "from sklearn.metrics import classification_report, accuracy_score, f1_score, roc_auc_score, confusion_matrix\n",
        "import joblib\n",
        "\n",
        "# Load dataset\n",
        "data = pd.read_excel(\"/content/synthetic_earthquake_data.xlsx\")\n",
        "\n",
        "# Assume last column is the target\n",
        "X = data.iloc[:, :-1]\n",
        "y = data.iloc[:, -1]\n",
        "\n",
        "print(\"Dataset loaded. Shape of X:\", X.shape, \"Shape of y:\", y.shape)\n",
        "print(\"Label distribution:\\n\", y.value_counts())\n",
        "\n",
        "# Train-test split\n",
        "X_train, X_test, y_train, y_test = train_test_split(\n",
        "    X, y, test_size=0.2, random_state=42, stratify=y\n",
        ")\n",
        "\n",
        "# Stratified K-Fold Cross-Validation\n",
        "skf = StratifiedKFold(n_splits=5, shuffle=True, random_state=42)\n"
      ],
      "metadata": {
        "colab": {
          "base_uri": "https://localhost:8080/"
        },
        "id": "81WPBXxbKwFB",
        "outputId": "1368b55e-76fc-4fc3-bd81-c7927d400e7c"
      },
      "execution_count": null,
      "outputs": [
        {
          "output_type": "stream",
          "name": "stdout",
          "text": [
            "Dataset loaded. Shape of X: (1000, 7) Shape of y: (1000,)\n",
            "Label distribution:\n",
            " Risk_Level\n",
            "1    357\n",
            "2    338\n",
            "0    305\n",
            "Name: count, dtype: int64\n"
          ]
        }
      ]
    },
    {
      "cell_type": "code",
      "source": [
        "# Define LightGBM classifier\n",
        "lgbm_clf = lgb.LGBMClassifier(random_state=42, verbose=-1)\n",
        "\n",
        "# Hyperparameter grid\n",
        "lgbm_param_grid = {\n",
        "    'n_estimators': [100, 200],\n",
        "    'learning_rate': [0.05, 0.1],\n",
        "    'num_leaves': [31, 62],\n",
        "    'boosting_type': ['gbdt']\n",
        "}\n",
        "\n",
        "# Grid search with cross-validation\n",
        "lgbm_grid_search = GridSearchCV(\n",
        "    estimator=lgbm_clf,\n",
        "    param_grid=lgbm_param_grid,\n",
        "    cv=skf,\n",
        "    scoring='accuracy',\n",
        "    n_jobs=-1,\n",
        "    verbose=1\n",
        ")\n",
        "\n",
        "print(\"Starting LightGBM grid search...\")\n",
        "lgbm_grid_search.fit(X_train, y_train)\n",
        "\n",
        "# Best LightGBM model\n",
        "best_lgbm_model = lgbm_grid_search.best_estimator_\n",
        "print(f\"Best LightGBM parameters: {lgbm_grid_search.best_params_}\")\n",
        "\n",
        "# Predictions and evaluation\n",
        "lgbm_preds = best_lgbm_model.predict(X_test)\n",
        "# For multiclass, predict_proba returns probabilities for each class.\n",
        "# ROC AUC requires probabilities for each class vs the rest (OvR) or specific classes (OvO) or an average.\n",
        "# We'll calculate macro average ROC AUC for simplicity here.\n",
        "try:\n",
        "    lgbm_proba_preds = best_lgbm_model.predict_proba(X_test)\n",
        "    roc_auc = roc_auc_score(y_test, lgbm_proba_preds, multi_class='ovr', average='weighted') # Use 'weighted' for multiclass ROC AUC\n",
        "except ValueError:\n",
        "    roc_auc = \"N/A (Cannot calculate ROC AUC for this model/data)\"\n",
        "\n",
        "\n",
        "print(\"\\n--- LightGBM Model Evaluation ---\")\n",
        "print(\"Accuracy:\", accuracy_score(y_test, lgbm_preds))\n",
        "print(\"F1 Score:\", f1_score(y_test, lgbm_preds, average='weighted')) # Use 'weighted' for multiclass F1\n",
        "print(\"ROC AUC Score:\", roc_auc)\n",
        "print(\"\\nClassification Report:\\n\", classification_report(y_test, lgbm_preds))\n",
        "print(\"Confusion Matrix:\\n\", confusion_matrix(y_test, lgbm_preds))\n",
        "\n",
        "# Save model\n",
        "joblib.dump(best_lgbm_model, 'best_lgbm_model.pkl')\n",
        "print(\"\\nLightGBM model saved as 'best_lgbm_model.pkl'\")"
      ],
      "metadata": {
        "colab": {
          "base_uri": "https://localhost:8080/"
        },
        "id": "0chS6qvCKyq6",
        "outputId": "d5231b12-792b-48c9-b3ad-44ee13784b76"
      },
      "execution_count": null,
      "outputs": [
        {
          "output_type": "stream",
          "name": "stdout",
          "text": [
            "Starting LightGBM grid search...\n",
            "Fitting 5 folds for each of 8 candidates, totalling 40 fits\n",
            "Best LightGBM parameters: {'boosting_type': 'gbdt', 'learning_rate': 0.05, 'n_estimators': 200, 'num_leaves': 31}\n",
            "\n",
            "--- LightGBM Model Evaluation ---\n",
            "Accuracy: 1.0\n",
            "F1 Score: 1.0\n",
            "ROC AUC Score: 1.0\n",
            "\n",
            "Classification Report:\n",
            "               precision    recall  f1-score   support\n",
            "\n",
            "           0       1.00      1.00      1.00        61\n",
            "           1       1.00      1.00      1.00        71\n",
            "           2       1.00      1.00      1.00        68\n",
            "\n",
            "    accuracy                           1.00       200\n",
            "   macro avg       1.00      1.00      1.00       200\n",
            "weighted avg       1.00      1.00      1.00       200\n",
            "\n",
            "Confusion Matrix:\n",
            " [[61  0  0]\n",
            " [ 0 71  0]\n",
            " [ 0  0 68]]\n",
            "\n",
            "LightGBM model saved as 'best_lgbm_model.pkl'\n"
          ]
        }
      ]
    },
    {
      "cell_type": "code",
      "source": [
        "# Define SVM classifier\n",
        "svm_clf = SVC(probability=True, random_state=42)\n",
        "\n",
        "# Hyperparameter grid\n",
        "svm_param_grid = {\n",
        "    'C': [0.1, 1, 10],\n",
        "    'gamma': ['scale', 'auto'],\n",
        "    'kernel': ['rbf']\n",
        "}\n",
        "\n",
        "# Grid search with cross-validation\n",
        "svm_grid_search = GridSearchCV(\n",
        "    estimator=svm_clf,\n",
        "    param_grid=svm_param_grid,\n",
        "    cv=skf,\n",
        "    scoring='accuracy',\n",
        "    n_jobs=-1,\n",
        "    verbose=1\n",
        ")\n",
        "\n",
        "print(\"\\nStarting SVM grid search...\")\n",
        "svm_grid_search.fit(X_train, y_train)\n",
        "\n",
        "# Best SVM model\n",
        "best_svm_model = svm_grid_search.best_estimator_\n",
        "print(f\"Best SVM parameters: {svm_grid_search.best_params_}\")\n",
        "\n",
        "# Predictions and evaluation\n",
        "svm_preds = best_svm_model.predict(X_test)\n",
        "# For multiclass, predict_proba returns probabilities for each class.\n",
        "# ROC AUC requires probabilities for each class vs the rest (OvR) or specific classes (OvO) or an average.\n",
        "# We'll calculate weighted average ROC AUC for simplicity here.\n",
        "try:\n",
        "    svm_proba_preds = best_svm_model.predict_proba(X_test)\n",
        "    # Use 'weighted' for multiclass ROC AUC and specify multi_class strategy\n",
        "    roc_auc = roc_auc_score(y_test, svm_proba_preds, multi_class='ovr', average='weighted')\n",
        "except ValueError:\n",
        "    roc_auc = \"N/A (Cannot calculate ROC AUC for this model/data or insufficient classes)\"\n",
        "\n",
        "\n",
        "print(\"\\n--- SVM Model Evaluation ---\")\n",
        "print(\"Accuracy:\", accuracy_score(y_test, svm_preds))\n",
        "print(\"F1 Score:\", f1_score(y_test, svm_preds, average='weighted')) # Use 'weighted' for multiclass F1\n",
        "print(\"ROC AUC Score:\", roc_auc)\n",
        "print(\"\\nClassification Report:\\n\", classification_report(y_test, svm_preds))\n",
        "print(\"Confusion Matrix:\\n\", confusion_matrix(y_test, svm_preds))\n",
        "\n",
        "# Save model\n",
        "joblib.dump(best_svm_model, 'best_svm_model.pkl')\n",
        "print(\"\\nSVM model saved as 'best_svm_model.pkl'\")"
      ],
      "metadata": {
        "colab": {
          "base_uri": "https://localhost:8080/"
        },
        "id": "2PoySxAhLD03",
        "outputId": "29db475a-dc92-4fd7-e46b-9d65ac1fc872"
      },
      "execution_count": null,
      "outputs": [
        {
          "output_type": "stream",
          "name": "stdout",
          "text": [
            "\n",
            "Starting SVM grid search...\n",
            "Fitting 5 folds for each of 6 candidates, totalling 30 fits\n",
            "Best SVM parameters: {'C': 0.1, 'gamma': 'scale', 'kernel': 'rbf'}\n",
            "\n",
            "--- SVM Model Evaluation ---\n",
            "Accuracy: 0.355\n",
            "F1 Score: 0.1860147601476015\n",
            "ROC AUC Score: 0.44964922353871656\n",
            "\n",
            "Classification Report:\n",
            "               precision    recall  f1-score   support\n",
            "\n",
            "           0       0.00      0.00      0.00        61\n",
            "           1       0.35      1.00      0.52        71\n",
            "           2       0.00      0.00      0.00        68\n",
            "\n",
            "    accuracy                           0.35       200\n",
            "   macro avg       0.12      0.33      0.17       200\n",
            "weighted avg       0.13      0.35      0.19       200\n",
            "\n",
            "Confusion Matrix:\n",
            " [[ 0 61  0]\n",
            " [ 0 71  0]\n",
            " [ 0 68  0]]\n",
            "\n",
            "SVM model saved as 'best_svm_model.pkl'\n"
          ]
        },
        {
          "output_type": "stream",
          "name": "stderr",
          "text": [
            "/usr/local/lib/python3.12/dist-packages/sklearn/metrics/_classification.py:1565: UndefinedMetricWarning: Precision is ill-defined and being set to 0.0 in labels with no predicted samples. Use `zero_division` parameter to control this behavior.\n",
            "  _warn_prf(average, modifier, f\"{metric.capitalize()} is\", len(result))\n",
            "/usr/local/lib/python3.12/dist-packages/sklearn/metrics/_classification.py:1565: UndefinedMetricWarning: Precision is ill-defined and being set to 0.0 in labels with no predicted samples. Use `zero_division` parameter to control this behavior.\n",
            "  _warn_prf(average, modifier, f\"{metric.capitalize()} is\", len(result))\n",
            "/usr/local/lib/python3.12/dist-packages/sklearn/metrics/_classification.py:1565: UndefinedMetricWarning: Precision is ill-defined and being set to 0.0 in labels with no predicted samples. Use `zero_division` parameter to control this behavior.\n",
            "  _warn_prf(average, modifier, f\"{metric.capitalize()} is\", len(result))\n"
          ]
        }
      ]
    }
  ]
}